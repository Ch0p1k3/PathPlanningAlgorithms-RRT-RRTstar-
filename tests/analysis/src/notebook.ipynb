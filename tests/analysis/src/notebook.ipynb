{
 "metadata": {
  "language_info": {
   "codemirror_mode": {
    "name": "ipython",
    "version": 3
   },
   "file_extension": ".py",
   "mimetype": "text/x-python",
   "name": "python",
   "nbconvert_exporter": "python",
   "pygments_lexer": "ipython3",
   "version": "3.8.5-final"
  },
  "orig_nbformat": 2,
  "kernelspec": {
   "name": "python385jvsc74a57bd0b3ba2566441a7c06988d0923437866b63cedc61552a5af99d1f4fb67d367b25f",
   "display_name": "Python 3.8.5 64-bit (conda)"
  }
 },
 "nbformat": 4,
 "nbformat_minor": 2,
 "cells": [
  {
   "source": [
    "import sys\n",
    "import os\n",
    "import lxml.etree as ET \n",
    "import seaborn as sns"
   ],
   "cell_type": "code",
   "metadata": {},
   "execution_count": 40,
   "outputs": []
  },
  {
   "cell_type": "code",
   "execution_count": 94,
   "metadata": {},
   "outputs": [],
   "source": [
    "def getDataFromFileRRT(filePath: str) -> tuple:\n",
    "    tree = ET.parse(filePath)\n",
    "    root = tree.getroot()\n",
    "    time = float(root.find('time').text)\n",
    "    # countOfEdges = int(root.find('countofedges').text)\n",
    "    distance = float(root.find('distance').text)\n",
    "    return (time, distance)\n",
    "    "
   ]
  },
  {
   "cell_type": "code",
   "execution_count": 95,
   "metadata": {},
   "outputs": [],
   "source": [
    "def getDataFromFileAstar(filePath: str) -> tuple:\n",
    "    tree = ET.parse(filePath)\n",
    "    root = tree.getroot()\n",
    "    log = root.find('log')\n",
    "    summary = log.find('summary')\n",
    "    time = float(summary.get('time'))\n",
    "    \n",
    "    distance = float(summary.get('length'))\n",
    "    return (time, distance)\n",
    "\n"
   ]
  },
  {
   "cell_type": "code",
   "execution_count": 100,
   "metadata": {},
   "outputs": [],
   "source": [
    "def getAllData(folder: str) -> tuple:\n",
    "    RRTData = []\n",
    "    for file in os.listdir(os.path.join(folder, 'RRT')):\n",
    "        RRTData.append(getDataFromFileRRT(os.path.join(folder, 'RRT', file)))\n",
    "    AstarData = []\n",
    "    for file in os.listdir(os.path.join(folder, 'Astar')):\n",
    "        AstarData.append(getDataFromFileAstar(os.path.join(folder, 'Astar', file)))\n",
    "    return (RRTData, AstarData)"
   ]
  },
  {
   "cell_type": "code",
   "execution_count": null,
   "metadata": {},
   "outputs": [],
   "source": []
  },
  {
   "source": [
    "# Moscow102401"
   ],
   "cell_type": "markdown",
   "metadata": {}
  },
  {
   "cell_type": "code",
   "execution_count": 106,
   "metadata": {},
   "outputs": [
    {
     "output_type": "stream",
     "name": "stdout",
     "text": [
      "[(0.121684, 849.500095), (0.058384, 1201.71764), (0.044186, 725.539457), (0.163289, 792.5788), (0.081803, 878.224441), (0.089398, 660.0), (0.155499, 926.134354), (0.044734, 740.0), (0.113823, 807.441223), (0.073173, 730.0)]\n[(0.047145, 492.78888), (0.043207, 492.78888), (0.04651, 492.78888), (0.046715, 492.78888), (0.046137, 492.78888), (0.048686, 492.78888), (0.051333, 492.78888), (0.047469, 492.78888), (0.046911, 492.78888), (0.046363, 492.78888)]\n"
     ]
    }
   ],
   "source": [
    "path = 'D:/Projects/PathPlanningAlgorithms-RRT-RRTstar-/tests/analysis/moscow102401'\n",
    "data = getAllData(path)\n",
    "print(data[0])\n",
    "print(data[1])\n"
   ]
  },
  {
   "cell_type": "code",
   "execution_count": null,
   "metadata": {},
   "outputs": [],
   "source": []
  }
 ]
}