{
 "metadata": {
  "language_info": {
   "codemirror_mode": {
    "name": "ipython",
    "version": 3
   },
   "file_extension": ".py",
   "mimetype": "text/x-python",
   "name": "python",
   "nbconvert_exporter": "python",
   "pygments_lexer": "ipython3",
   "version": "3.8.5-final"
  },
  "orig_nbformat": 2,
  "kernelspec": {
   "name": "python385jvsc74a57bd0b3ba2566441a7c06988d0923437866b63cedc61552a5af99d1f4fb67d367b25f",
   "display_name": "Python 3.8.5 64-bit (conda)"
  }
 },
 "nbformat": 4,
 "nbformat_minor": 2,
 "cells": [
  {
   "source": [
    "import sys\n",
    "import os\n",
    "import lxml.etree as ET \n",
    "import seaborn as sns"
   ],
   "cell_type": "code",
   "metadata": {},
   "execution_count": 40,
   "outputs": []
  },
  {
   "cell_type": "code",
   "execution_count": 94,
   "metadata": {},
   "outputs": [],
   "source": [
    "def getDataFromFileRRT(filePath: str) -> tuple:\n",
    "    tree = ET.parse(filePath)\n",
    "    root = tree.getroot()\n",
    "    time = float(root.find('time').text)\n",
    "    # countOfEdges = int(root.find('countofedges').text)\n",
    "    distance = float(root.find('distance').text)\n",
    "    return (time, distance)\n",
    "    "
   ]
  },
  {
   "cell_type": "code",
   "execution_count": 95,
   "metadata": {},
   "outputs": [],
   "source": [
    "def getDataFromFileAstar(filePath: str) -> tuple:\n",
    "    tree = ET.parse(filePath)\n",
    "    root = tree.getroot()\n",
    "    log = root.find('log')\n",
    "    summary = log.find('summary')\n",
    "    time = float(summary.get('time'))\n",
    "    \n",
    "    distance = float(summary.get('length'))\n",
    "    return (time, distance)\n",
    "\n"
   ]
  },
  {
   "cell_type": "code",
   "execution_count": null,
   "metadata": {},
   "outputs": [],
   "source": []
  }
 ]
}