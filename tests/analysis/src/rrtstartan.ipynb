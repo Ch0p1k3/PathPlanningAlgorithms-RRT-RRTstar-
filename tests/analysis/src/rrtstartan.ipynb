{
 "metadata": {
  "language_info": {
   "codemirror_mode": {
    "name": "ipython",
    "version": 3
   },
   "file_extension": ".py",
   "mimetype": "text/x-python",
   "name": "python",
   "nbconvert_exporter": "python",
   "pygments_lexer": "ipython3",
   "version": "3.8.5"
  },
  "orig_nbformat": 2,
  "kernelspec": {
   "name": "python385jvsc74a57bd0b3ba2566441a7c06988d0923437866b63cedc61552a5af99d1f4fb67d367b25f",
   "display_name": "Python 3.8.5 64-bit ('base': conda)"
  }
 },
 "nbformat": 4,
 "nbformat_minor": 2,
 "cells": [
  {
   "cell_type": "code",
   "execution_count": 2,
   "metadata": {},
   "outputs": [],
   "source": [
    "import sys\n",
    "import os\n",
    "import lxml.etree as ET \n",
    "import matplotlib.pyplot as plt"
   ]
  },
  {
   "cell_type": "code",
   "execution_count": 3,
   "metadata": {},
   "outputs": [],
   "source": [
    "def getDataFromFileRRT(filePath: str) -> tuple:\n",
    "    tree = ET.parse(filePath)\n",
    "    root = tree.getroot()\n",
    "    time = float(root.find('time').text)\n",
    "    # countOfEdges = int(root.find('countofedges').text)\n",
    "    path_found = True if root.find('pathfound').text == 'true' else False\n",
    "    distance = 0\n",
    "    if path_found: \n",
    "        distance = float(root.find('distance').text)\n",
    "    return (pathFound, time, distance)\n",
    "    "
   ]
  },
  {
   "cell_type": "code",
   "execution_count": 4,
   "metadata": {},
   "outputs": [],
   "source": [
    "def process(binaryRRT: str, filePath: str) -> str:\n",
    "    filePath = os.path.normpath(filePath)\n",
    "    r  = os.path.split(filePath)\n",
    "    def make_unique(path: str, suffix: str):\n",
    "        name = 'RRTstar' + suffix\n",
    "        result = name\n",
    "        index = 1\n",
    "        while True:\n",
    "            if not os.path.exists(os.path.join(path, result)):\n",
    "                return os.path.join(path, result)\n",
    "            result = name + str(index)\n",
    "            index += 1\n",
    "    \n",
    "    dir_input = make_unique(r[0], 'input')\n",
    "    os.mkdir(dir_input)\n",
    "    dir_output = make_unique(r[0], 'output')\n",
    "    os.mkdir(dir_output)\n",
    "    tree = ET.parse(filePath)\n",
    "    root = tree.getroot()\n",
    "    log = root.find('log')\n",
    "    path = log.find('path')\n",
    "    algo = root.find('algorithm')\n",
    "    search_type = algo.find('searchtype')\n",
    "    number_of_iterations = algo.find('numberofiterations')\n",
    "    name = r[1].split('.')[0]\n",
    "    for index in range(100):\n",
    "        path_input_file = os.path.join(\n",
    "                            dir_input, \n",
    "                            f'{name}_{index}.xml')\n",
    "        path_output_file = os.path.join(\n",
    "                            dir_output, \n",
    "                            f'{name}_log_{index}.xml')\n",
    "        path.text = path_output_file\n",
    "        number_of_iterations.text = str(10000 + index * 1000)\n",
    "        search_type.text = 'rrtstar'\n",
    "        tree.write(path_input_file, pretty_print=True)\n",
    "        os.system(f'{binaryRRT} {path_input_file}')\n",
    "    return dir_output\n",
    "\n",
    "    \n",
    "    "
   ]
  },
  {
   "cell_type": "code",
   "execution_count": 9,
   "metadata": {},
   "outputs": [],
   "source": [
    "moscow_0_1024_02 = process('D:\\\\Projects\\\\PathPlanningAlgorithms-RRT-RRTstar-\\\\bin\\\\release\\\\RRT-RRTstar.exe',\n",
    "'D:\\\\Projects\\\\PathPlanningAlgorithms-RRT-RRTstar-\\\\tests\\\\analysis\\\\moscow102402\\\\Moscow_0_1024_rrt.xml')\n",
    "print(moscow_0_1024_02)"
   ]
  },
  {
   "cell_type": "code",
   "execution_count": 5,
   "metadata": {},
   "outputs": [
    {
     "output_type": "error",
     "ename": "KeyboardInterrupt",
     "evalue": "",
     "traceback": [
      "\u001b[1;31m---------------------------------------------------------------------------\u001b[0m",
      "\u001b[1;31mKeyboardInterrupt\u001b[0m                         Traceback (most recent call last)",
      "\u001b[1;32m<ipython-input-5-1c609fc00b96>\u001b[0m in \u001b[0;36m<module>\u001b[1;34m\u001b[0m\n\u001b[1;32m----> 1\u001b[1;33m london_1_1024_1 = process('D:\\\\Projects\\\\PathPlanningAlgorithms-RRT-RRTstar-\\\\bin\\\\release\\\\RRT-RRTstar.exe',\n\u001b[0m\u001b[0;32m      2\u001b[0m 'D:\\\\Projects\\\\PathPlanningAlgorithms-RRT-RRTstar-\\\\tests\\\\analysis\\\\london102411\\\\London_1_1024_rrt.xml')\n\u001b[0;32m      3\u001b[0m \u001b[0mprint\u001b[0m\u001b[1;33m(\u001b[0m\u001b[0mlondon_1_1024_1\u001b[0m\u001b[1;33m)\u001b[0m\u001b[1;33m\u001b[0m\u001b[1;33m\u001b[0m\u001b[0m\n",
      "\u001b[1;32m<ipython-input-4-dac6149324fb>\u001b[0m in \u001b[0;36mprocess\u001b[1;34m(binaryRRT, filePath)\u001b[0m\n\u001b[0;32m     35\u001b[0m         \u001b[0msearch_type\u001b[0m\u001b[1;33m.\u001b[0m\u001b[0mtext\u001b[0m \u001b[1;33m=\u001b[0m \u001b[1;34m'rrtstar'\u001b[0m\u001b[1;33m\u001b[0m\u001b[1;33m\u001b[0m\u001b[0m\n\u001b[0;32m     36\u001b[0m         \u001b[0mtree\u001b[0m\u001b[1;33m.\u001b[0m\u001b[0mwrite\u001b[0m\u001b[1;33m(\u001b[0m\u001b[0mpath_input_file\u001b[0m\u001b[1;33m,\u001b[0m \u001b[0mpretty_print\u001b[0m\u001b[1;33m=\u001b[0m\u001b[1;32mTrue\u001b[0m\u001b[1;33m)\u001b[0m\u001b[1;33m\u001b[0m\u001b[1;33m\u001b[0m\u001b[0m\n\u001b[1;32m---> 37\u001b[1;33m         \u001b[0mos\u001b[0m\u001b[1;33m.\u001b[0m\u001b[0msystem\u001b[0m\u001b[1;33m(\u001b[0m\u001b[1;34mf'{binaryRRT} {path_input_file}'\u001b[0m\u001b[1;33m)\u001b[0m\u001b[1;33m\u001b[0m\u001b[1;33m\u001b[0m\u001b[0m\n\u001b[0m\u001b[0;32m     38\u001b[0m     \u001b[1;32mreturn\u001b[0m \u001b[0mdir_output\u001b[0m\u001b[1;33m\u001b[0m\u001b[1;33m\u001b[0m\u001b[0m\n\u001b[0;32m     39\u001b[0m \u001b[1;33m\u001b[0m\u001b[0m\n",
      "\u001b[1;31mKeyboardInterrupt\u001b[0m: "
     ]
    }
   ],
   "source": [
    "london_1_1024_1 = process('D:\\\\Projects\\\\PathPlanningAlgorithms-RRT-RRTstar-\\\\bin\\\\release\\\\RRT-RRTstar.exe',\n",
    "'D:\\\\Projects\\\\PathPlanningAlgorithms-RRT-RRTstar-\\\\tests\\\\analysis\\\\london102411\\\\London_1_1024_rrt.xml')\n",
    "print(london_1_1024_1)"
   ]
  },
  {
   "cell_type": "code",
   "execution_count": null,
   "metadata": {},
   "outputs": [],
   "source": []
  },
  {
   "cell_type": "code",
   "execution_count": null,
   "metadata": {},
   "outputs": [],
   "source": []
  }
 ]
}